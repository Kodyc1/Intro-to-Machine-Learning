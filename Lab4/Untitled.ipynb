{
 "cells": [
  {
   "cell_type": "code",
   "execution_count": null,
   "metadata": {
    "collapsed": false,
    "scrolled": false
   },
   "outputs": [],
   "source": [
    "import numpy as np\n",
    "import matplotlib.pyplot as plt\n",
    "import mltools as ml\n",
    "\n",
    "\n",
    "X_data = np.genfromtxt(\"C:\\Python35\\CS178\\Lab4\\X_train.txt\",delimiter=None)\n",
    "Y_data = np.genfromtxt(\"C:\\Python35\\CS178\\Lab4\\Y_train.txt\",delimiter=None)\n",
    "X_test = np.genfromtxt(\"C:\\Python35\\CS178\\Lab4\\X_test.txt\",delimiter=None)\n",
    "\n",
    "# First 10,000 points are for training, second 10,000 are for validation\n",
    "X_train = X_data[0:10000]\n",
    "X_valid = X_data[10001:20000]\n",
    "\n",
    "Y_train = Y_data[0:10000]\n",
    "Y_valid = Y_data[10001:20000]\n",
    "\n",
    "learner = ml.dtree.treeClassify(X_train, Y_train, maxDepth = 6)\n",
    "\n",
    "Y_predictions = learner.predictSoft(X_test)\n",
    "\n",
    "\n",
    "# for i in range(0,15):\n",
    "    \n",
    "#     print(\"round {}\".format(i))\n",
    "    \n",
    "#     for j in range(0,len(X_data)):\n",
    "        \n",
    "#         if (Y_data[j] == 0):\n",
    "#             plt.plot(j, X_data[:,i][j],'o',c = 'r')\n",
    "        \n",
    "#         elif (Y_data[j] == 1):\n",
    "#             plt.plot(j, X_data[:,i][j],'o',c = 'b')\n",
    "    \n",
    "#     plt.show()"
   ]
  },
  {
   "cell_type": "code",
   "execution_count": null,
   "metadata": {
    "collapsed": true
   },
   "outputs": [],
   "source": []
  }
 ],
 "metadata": {
  "anaconda-cloud": {},
  "kernelspec": {
   "display_name": "Python [conda root]",
   "language": "python",
   "name": "conda-root-py"
  },
  "language_info": {
   "codemirror_mode": {
    "name": "ipython",
    "version": 3
   },
   "file_extension": ".py",
   "mimetype": "text/x-python",
   "name": "python",
   "nbconvert_exporter": "python",
   "pygments_lexer": "ipython3",
   "version": "3.5.2"
  }
 },
 "nbformat": 4,
 "nbformat_minor": 1
}
