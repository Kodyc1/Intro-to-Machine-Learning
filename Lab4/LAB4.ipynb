{
 "cells": [
  {
   "cell_type": "markdown",
   "metadata": {},
   "source": [
    "# CS178 LAB 3 WINTER 2017\n",
    "# KODY CHEUNG 85737824"
   ]
  },
  {
   "cell_type": "markdown",
   "metadata": {},
   "source": [
    "### PROBLEM 1: DECISION TREES"
   ]
  },
  {
   "cell_type": "markdown",
   "metadata": {},
   "source": [
    "#### 1A) Entropy of y\n",
    "![](entropy.png)"
   ]
  },
  {
   "cell_type": "markdown",
   "metadata": {},
   "source": [
    "#### 1B) Information gain for xi, i = 1,2,3,4,5\n",
    "\n",
    "![](information gain.png)\n",
    "x<sub>1</sub> = 0.97095 - 0.9245 = 0.0465 \n",
    "\n",
    "</br>\n",
    "\n",
    "x<sub>2</sub> = 0.97095 - 0.3609 = 0.6101 \n",
    "\n",
    "</br>\n",
    "\n",
    "x<sub>3</sub> = 0.97095 - 0.9651 = 0.0059 \n",
    "\n",
    "</br>\n",
    "\n",
    "x<sub>4</sub> = 0.97095 - 0.8797 = 0.0913 \n",
    "\n",
    "</br>\n",
    "\n",
    "x<sub>5</sub> = 0.97095 - 0.9651 = 0.0059 \n",
    "\n",
    "</br>\n",
    "\n",
    "**When each feature is subtracted from the entropy of y, we can see that x<sub>2</sub> has the largest difference and most information gain and therefore should be used to split the data.**"
   ]
  },
  {
   "cell_type": "markdown",
   "metadata": {},
   "source": [
    "#### 1C) Decision tree\n",
    "\n",
    "\n",
    "![](decision tree.png)\n",
    "\n"
   ]
  },
  {
   "cell_type": "markdown",
   "metadata": {},
   "source": [
    "### PROBLEM 2: Kaggle Decision Trees"
   ]
  },
  {
   "cell_type": "markdown",
   "metadata": {},
   "source": [
    "#### 2A) Load training data"
   ]
  },
  {
   "cell_type": "code",
   "execution_count": 77,
   "metadata": {},
   "outputs": [],
   "source": [
    "import numpy as np\n",
    "import matplotlib.pyplot as plt\n",
    "import mltools as ml\n",
    "\n",
    "\n",
    "X_data = np.genfromtxt(\"C:\\Python35\\CS178\\Lab4\\X_train.txt\",delimiter=None)\n",
    "Y_data = np.genfromtxt(\"C:\\Python35\\CS178\\Lab4\\Y_train.txt\",delimiter=None)\n",
    "\n",
    "# First 10,000 points are for training, second 10,000 are for validation\n",
    "X_train = X_data[0:10000]\n",
    "X_valid = X_data[10000:20000]\n",
    "\n",
    "Y_train = Y_data[0:10000]\n",
    "Y_valid = Y_data[10000:20000]"
   ]
  },
  {
   "cell_type": "markdown",
   "metadata": {},
   "source": [
    "#### 2B) Learn decision tree classifier"
   ]
  },
  {
   "cell_type": "code",
   "execution_count": 78,
   "metadata": {},
   "outputs": [
    {
     "name": "stdout",
     "output_type": "stream",
     "text": [
      "Training MSE of Depth 50: 0.0047      Validation MSE of Depth 50: 0.3785\n",
      "\n"
     ]
    }
   ],
   "source": [
    "from sklearn.metrics import mean_squared_error\n",
    "\n",
    "# tree classifier\n",
    "learner = ml.dtree.treeClassify(X_train, Y_train, maxDepth = 50)\n",
    "\n",
    "\n",
    "# Calculate predicted training and validation error rates\n",
    "\n",
    "Yhat_Train = learner.predict(X_train)\n",
    "mse = mean_squared_error(Y_train, Yhat_Train)\n",
    "\n",
    "Yhat_Validation = learner.predict(X_valid)\n",
    "mse_valid = mean_squared_error(Y_valid, Yhat_Validation)\n",
    "\n",
    "\n",
    "print(\"Training MSE of Depth 50: {}      Validation MSE of Depth 50: {}\\n\".format(mse,mse_valid))\n"
   ]
  },
  {
   "cell_type": "markdown",
   "metadata": {},
   "source": [
    "#### 2C) Test max depths 0-15"
   ]
  },
  {
   "cell_type": "code",
   "execution_count": 79,
   "metadata": {},
   "outputs": [
    {
     "name": "stdout",
     "output_type": "stream",
     "text": [
      "Training MSE of Depth 0 : 0.3418      Validation MSE of Depth 0 : 0.3419\n",
      "Training MSE of Depth 1 : 0.3418      Validation MSE of Depth 1 : 0.3419\n",
      "Training MSE of Depth 2 : 0.3223      Validation MSE of Depth 2 : 0.3191\n",
      "Training MSE of Depth 3 : 0.3133      Validation MSE of Depth 3 : 0.3126\n",
      "Training MSE of Depth 4 : 0.3105      Validation MSE of Depth 4 : 0.3152\n",
      "Training MSE of Depth 5 : 0.3008      Validation MSE of Depth 5 : 0.3102\n",
      "Training MSE of Depth 6 : 0.2949      Validation MSE of Depth 6 : 0.3103\n",
      "Training MSE of Depth 7 : 0.2872      Validation MSE of Depth 7 : 0.312\n",
      "Training MSE of Depth 8 : 0.277       Validation MSE of Depth 8 : 0.3124\n",
      "Training MSE of Depth 9 : 0.2635      Validation MSE of Depth 9 : 0.3182\n",
      "Training MSE of Depth 10: 0.246       Validation MSE of Depth 10: 0.3264\n",
      "Training MSE of Depth 11: 0.2308      Validation MSE of Depth 11: 0.3257\n",
      "Training MSE of Depth 12: 0.2093      Validation MSE of Depth 12: 0.3326\n",
      "Training MSE of Depth 13: 0.1924      Validation MSE of Depth 13: 0.3416\n",
      "Training MSE of Depth 14: 0.1661      Validation MSE of Depth 14: 0.3445\n",
      "Training MSE of Depth 15: 0.147       Validation MSE of Depth 15: 0.3574\n"
     ]
    },
    {
     "data": {
      "image/png": "[encoded data removed]",
      "text/plain": [
       "<matplotlib.figure.Figure at 0x1b56ceb7828>"
      ]
     },
     "metadata": {},
     "output_type": "display_data"
    }
   ],
   "source": [
    "valid = []\n",
    "for i in range(0,16):\n",
    "    \n",
    "    \n",
    "    small_learner = ml.dtree.treeClassify(X_train, Y_train, maxDepth = i)\n",
    "    Yhat_tr = small_learner.predict(X_train)\n",
    "    tr_mse = mean_squared_error(Y_train, Yhat_tr)\n",
    "    \n",
    "    \n",
    "    Yhat_val = small_learner.predict(X_valid)\n",
    "    val_mse = mean_squared_error(Y_valid, Yhat_val)\n",
    "    valid.append(val_mse)\n",
    "\n",
    "    print(\"Training MSE of Depth {:<2}: {:<6}      Validation MSE of Depth {:<2}: {}\".format(i, tr_mse, i, val_mse))\n",
    "\n",
    "    \n",
    "plt.plot(list(range(0,16)), valid)\n",
    "plt.show()"
   ]
  },
  {
   "cell_type": "markdown",
   "metadata": {},
   "source": [
    "The training error slowly decreases as the validation error goes from underfitting, to fitting, to overfitting.  The complexity starts out low and steadily increases with each depth.  The overfitting starts right after depth 7.  I would choose depth 6 as the best depth because of its minimum point on the error graph."
   ]
  },
  {
   "cell_type": "markdown",
   "metadata": {},
   "source": [
    "#### 2D) Minleaf depth"
   ]
  },
  {
   "cell_type": "code",
   "execution_count": 80,
   "metadata": {},
   "outputs": [
    {
     "name": "stdout",
     "output_type": "stream",
     "text": [
      "Training MSE with minLeaf 4   : 0.0966    Validation MSE with minLeaf 4   : 0.3815\n",
      "Training MSE with minLeaf 8   : 0.1692    Validation MSE with minLeaf 8   : 0.3756\n",
      "Training MSE with minLeaf 16  : 0.2263    Validation MSE with minLeaf 16  : 0.3563\n",
      "Training MSE with minLeaf 32  : 0.2637    Validation MSE with minLeaf 32  : 0.3335\n",
      "Training MSE with minLeaf 64  : 0.2899    Validation MSE with minLeaf 64  : 0.3276\n",
      "Training MSE with minLeaf 128 : 0.3012    Validation MSE with minLeaf 128 : 0.3119\n",
      "Training MSE with minLeaf 256 : 0.3085    Validation MSE with minLeaf 256 : 0.3172\n",
      "Training MSE with minLeaf 512 : 0.3135    Validation MSE with minLeaf 512 : 0.3127\n",
      "Training MSE with minLeaf 1024: 0.3223    Validation MSE with minLeaf 1024: 0.3191\n",
      "Training MSE with minLeaf 2048: 0.3418    Validation MSE with minLeaf 2048: 0.3419\n",
      "Training MSE with minLeaf 4096: 0.3418    Validation MSE with minLeaf 4096: 0.3419\n"
     ]
    },
    {
     "data": {
      "image/png": "[encoded data removed]",
      "text/plain": [
       "<matplotlib.figure.Figure at 0x1b55f48f6d8>"
      ]
     },
     "metadata": {},
     "output_type": "display_data"
    }
   ],
   "source": [
    "error = []\n",
    "for i in range(2,13):\n",
    "    \n",
    "    min_learner = ml.dtree.treeClassify(X_train,Y_train, maxDepth = 50, minLeaf = 2**i)\n",
    "    \n",
    "    Yhat_tr = min_learner.predict(X_train)\n",
    "    \n",
    "    tr_mse = mean_squared_error(Y_train, Yhat_tr)\n",
    "    \n",
    "    Yhat_val = min_learner.predict(X_valid)\n",
    "\n",
    "    val_mse = mean_squared_error(Y_valid, Yhat_val)\n",
    "    \n",
    "    error.append(val_mse)\n",
    "\n",
    "    print(\"Training MSE with minLeaf {:<4}: {:<6}    Validation MSE with minLeaf {:<4}: {}\".format(2**i, tr_mse, 2**i, val_mse))\n",
    "    \n",
    "    \n",
    "plt.plot(list(range(2,13)), error)\n",
    "plt.show()"
   ]
  },
  {
   "cell_type": "markdown",
   "metadata": {},
   "source": [
    "The complexity increases as the number of minLeafs double, going from underfitting to best fit to overfitting like maxDepth does. I would use a minLeaf of 128 for its best validation error rate."
   ]
  },
  {
   "cell_type": "markdown",
   "metadata": {},
   "source": [
    "#### 2E) A related control is minParent: how does this complexity control with minParent compare to minLeaf?"
   ]
  },
  {
   "cell_type": "markdown",
   "metadata": {
    "collapsed": true
   },
   "source": [
    "minParent is the minimum number of data required to split a node, while minLeaf is the minimum number of data required to form a node, and they both have similar validation error rates, where the model underfits, fits, then overfits."
   ]
  },
  {
   "cell_type": "markdown",
   "metadata": {},
   "source": [
    "#### 2F) ROC curve of Area Under the Curve"
   ]
  },
  {
   "cell_type": "code",
   "execution_count": 81,
   "metadata": {},
   "outputs": [
    {
     "data": {
      "image/png": "[encoded data removed]",
      "text/plain": [
       "<matplotlib.figure.Figure at 0x1b567b89048>"
      ]
     },
     "metadata": {},
     "output_type": "display_data"
    },
    {
     "name": "stdout",
     "output_type": "stream",
     "text": [
      "Area under the curve: 0.5839253180793494\n"
     ]
    }
   ],
   "source": [
    "#roc member function\n",
    "\n",
    "false_positive, true_positive, true_negative = learner.roc(X_valid, Y_valid)\n",
    "\n",
    "plt.plot(false_positive, true_positive)\n",
    "plt.title(\"ROC Curve\")\n",
    "plt.xlabel(\"False Positive Rate\")\n",
    "plt.ylabel(\"True Positive Rate\")\n",
    "plt.show()\n",
    "\n",
    "#auc member function\n",
    "\n",
    "print(\"Area under the curve: {}\".format(learner.auc(X_valid, Y_valid)))\n"
   ]
  },
  {
   "cell_type": "markdown",
   "metadata": {},
   "source": [
    "#### 2G) Predictions on test points"
   ]
  },
  {
   "cell_type": "code",
   "execution_count": 82,
   "metadata": {},
   "outputs": [],
   "source": [
    "X_test = np.genfromtxt(\"C:\\Python35\\CS178\\Lab4\\X_test.txt\",delimiter=None)\n",
    "\n",
    "best_learner = ml.dtree.treeClassify(X_data, Y_data, maxDepth = 50, minLeaf = 128)\n",
    "\n",
    "Y_predictions = best_learner.predictSoft(X_test)\n",
    "\n",
    "# false_positive, true_positive, true_negative = best_learner.roc(X_valid, Y_valid)\n",
    "\n",
    "# plt.plot(false_positive, true_positive)\n",
    "# plt.title(\"ROC Curve\")\n",
    "# plt.xlabel(\"False Positive Rate\")\n",
    "# plt.ylabel(\"True Positive Rate\")\n",
    "# plt.show()\n",
    "\n",
    "\n",
    "np.savetxt('Yhat_dtree.txt', np.vstack( (np.arange(len(Y_predictions)), Y_predictions[:,1]) ).T, \n",
    "           '%d, %.2f', header = 'ID,Prob1', comments = '', delimiter=',')\n"
   ]
  },
  {
   "cell_type": "markdown",
   "metadata": {},
   "source": [
    "This prediction resulted in a score of 0.68793 on Kaggle, and is much higher than the 0.57492 from the validation data."
   ]
  },
  {
   "cell_type": "markdown",
   "metadata": {},
   "source": [
    "### PROBLEM 3: Random Forests"
   ]
  },
  {
   "cell_type": "markdown",
   "metadata": {},
   "source": [
    "#### 3A) Bagged Ensemble"
   ]
  },
  {
   "cell_type": "code",
   "execution_count": 83,
   "metadata": {
    "scrolled": false
   },
   "outputs": [
    {
     "data": {
      "image/png": "[encoded data removed]",
      "text/plain": [
       "<matplotlib.figure.Figure at 0x1b567b725c0>"
      ]
     },
     "metadata": {},
     "output_type": "display_data"
    }
   ],
   "source": [
    "# Build ensemble members\n",
    "\n",
    "M,N = X_train.shape\n",
    "\n",
    "learners = [1, 5, 10, 15, 20, 25]\n",
    "\n",
    "\n",
    "# ensemble of classifiers\n",
    "ensemble = [None] * 25\n",
    "\n",
    "for i in range(0, 25):\n",
    "    #ml.bootstrapData(X_train, Y_train, n_boot = nBag)\n",
    "    \n",
    "    indices = np.floor(M * np.random.rand(M)).astype(int)    # random combo of M rows\n",
    "    \n",
    "    Xi, Yi = X_train[indices,:], Y_train[indices]            # X and Y indices of those rows\n",
    "    \n",
    "    ensemble[i] = ml.dtree.treeClassify(Xi, Yi, maxDepth = 15, minLeaf = 4, nFeatures = 8) # put the learners in the ensemble\n",
    "\n",
    "\n",
    "# Compute prediction of the ensemble\n",
    "spaces = X_train.shape[0]\n",
    "tr = np.zeros((spaces,25))\n",
    "val = np.zeros((spaces,25))\n",
    "\n",
    "training_err = []\n",
    "validation_err = []\n",
    "\n",
    "# create prediction list for each learner\n",
    "for i in range(0,25):\n",
    "    tr[:,i] = ensemble[i].predict(X_train)\n",
    "    val[:,i] = ensemble[i].predict(X_valid)\n",
    "\n",
    "# calculate x number of learners from the ensemble and plot their error rates\n",
    "for bags in learners:\n",
    "\n",
    "    tr_err = np.mean(Y_train != (np.mean(tr[:,:bags], axis=1) > 0.5 ))\n",
    "    \n",
    "    training_err.append(tr_err)\n",
    "\n",
    "    val_err = np.mean(Y_valid != (np.mean(val[:,:bags], axis=1) > 0.5 ))\n",
    "    \n",
    "    validation_err.append(val_err)\n",
    "\n",
    "plt.plot(learners, training_err, label = \"Training error\")\n",
    "plt.plot(learners, validation_err, label = \"Validation error\")\n",
    "plt.xlabel(\"Number of learners\")\n",
    "plt.ylabel(\"Error rate\")\n",
    "plt.legend()\n",
    "plt.show()\n"
   ]
  },
  {
   "cell_type": "markdown",
   "metadata": {},
   "source": [
    "### 3B) Ensemble on Test Data"
   ]
  },
  {
   "cell_type": "code",
   "execution_count": null,
   "metadata": {
    "collapsed": true
   },
   "outputs": [],
   "source": [
    "# make ensemble and predict on test data\n",
    "m,n = X_test.shape\n",
    "\n",
    "Test = X_test.shape[0]\n",
    "\n",
    "# ensemble of classifiers\n",
    "bags = 200\n",
    "full_ensemble = [None] * bags\n",
    "\n",
    "for i in range(0, bags):\n",
    "    #ml.bootstrapData(X_train, Y_train, n_boot = nBag)\n",
    "    \n",
    "    indices = np.floor(m * np.random.rand(m)).astype(int)    # random combo of M rows\n",
    "    \n",
    "    Xi, Yi = X_data[indices,:], Y_data[indices]            # X and Y indices of those rows\n",
    "    \n",
    "    # put the learners in the ensemble\n",
    "    full_ensemble[i] = ml.dtree.treeClassify(Xi, Yi, maxDepth = 15, minLeaf = 4, nFeatures = 8) \n",
    "    \n",
    "# space for predictions from each model\n",
    "predict = np.zeros((Test,2))\n",
    "\n",
    "# predictions = np.zeros((25,2))\n",
    "# print(predictions)\n",
    "# for i in range(0,25):\n",
    "#     predictions[i] = np.zeros((Test,2))\n",
    "\n",
    "for i in range(0,bags):\n",
    "    \n",
    "#     predict[:,i] = \n",
    "    predict += full_ensemble[i].predictSoft(X_test)\n",
    "\n",
    "predict = predict/bags\n",
    "\n",
    "\n",
    "np.savetxt('Yhat_ensemble.txt', np.vstack( (np.arange(len(predict)), predict[:,1]) ).T, \n",
    "           '%d, %.2f', header = 'ID,Prob1', comments = '', delimiter=',')\n"
   ]
  },
  {
   "cell_type": "markdown",
   "metadata": {},
   "source": [
    "The performance of 100 learners in the ensemble and taking the average of soft scores resulted in a score of 0.74794."
   ]
  }
 ],
 "metadata": {
  "anaconda-cloud": {},
  "kernelspec": {
   "display_name": "Python 3",
   "language": "python",
   "name": "python3"
  },
  "language_info": {
   "codemirror_mode": {
    "name": "ipython",
    "version": 3
   },
   "file_extension": ".py",
   "mimetype": "text/x-python",
   "name": "python",
   "nbconvert_exporter": "python",
   "pygments_lexer": "ipython3",
   "version": "3.5.3"
  }
 },
 "nbformat": 4,
 "nbformat_minor": 1
}
